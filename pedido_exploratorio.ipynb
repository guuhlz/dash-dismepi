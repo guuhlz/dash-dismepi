{
 "cells": [
  {
   "cell_type": "code",
   "execution_count": 1,
   "metadata": {},
   "outputs": [],
   "source": [
    "from pedidos import Pedido\n",
    "import pandas as pd"
   ]
  },
  {
   "cell_type": "code",
   "execution_count": 2,
   "metadata": {},
   "outputs": [],
   "source": [
    "pedido = pd.read_excel('./PLANILHA DE PEDIDO DISMEPI_st.xlsx',sheet_name='PEDIDO')"
   ]
  },
  {
   "cell_type": "code",
   "execution_count": 13,
   "metadata": {},
   "outputs": [
    {
     "name": "stdout",
     "output_type": "stream",
     "text": [
      "<class 'pandas.core.frame.DataFrame'>\n",
      "RangeIndex: 355 entries, 0 to 354\n",
      "Data columns (total 52 columns):\n",
      " #   Column                Non-Null Count  Dtype  \n",
      "---  ------                --------------  -----  \n",
      " 0   Embalagem             181 non-null    object \n",
      " 1   Cód. Prod. SAP        325 non-null    object \n",
      " 2   Categorização         347 non-null    object \n",
      " 3   Cod.                  334 non-null    object \n",
      " 4   Código Promax         355 non-null    int64  \n",
      " 5   Prod. Completo        311 non-null    object \n",
      " 6   Desc. Prod.           355 non-null    object \n",
      " 7   Min (HL)              220 non-null    float64\n",
      " 8   Obj (HL)              220 non-null    float64\n",
      " 9   Max (HL)              220 non-null    float64\n",
      " 10  Fator HL              334 non-null    float64\n",
      " 11  Min (cx)              334 non-null    float64\n",
      " 12  Obj (cx)              334 non-null    float64\n",
      " 13  Max (cx)              334 non-null    float64\n",
      " 14  MIN (ESTOUE IDEAL)    334 non-null    float64\n",
      " 15  MAX (GESTOR)          334 non-null    float64\n",
      " 16  PALETIZAÇÃO           355 non-null    int64  \n",
      " 17  Estoque HL            334 non-null    float64\n",
      " 18  PEDIDO                334 non-null    float64\n",
      " 19  ESTOQUE               355 non-null    float64\n",
      " 20  ESTOQUE \n",
      "PALETE       355 non-null    float64\n",
      " 21  TRANSITO              355 non-null    int64  \n",
      " 22  2024-06-04 00:00:00   355 non-null    int64  \n",
      " 23  2024-06-05 00:00:00   355 non-null    int64  \n",
      " 24  2024-06-06 00:00:00   355 non-null    int64  \n",
      " 25  2024-06-07 00:00:00   355 non-null    int64  \n",
      " 26  LINEAR DE VENDA       355 non-null    float64\n",
      " 27  EST + MARC - 3*LIN    355 non-null    float64\n",
      " 28  Diff                  352 non-null    float64\n",
      " 29  SUGERIDO              355 non-null    float64\n",
      " 30  MÍNIMO                355 non-null    float64\n",
      " 31  SUGERIDO.1            355 non-null    float64\n",
      " 32  MÁXIMO\n",
      "PEDIDO         355 non-null    float64\n",
      " 33  MÍNIMO\n",
      "PEDIDO         355 non-null    float64\n",
      " 34  FÁBRICA               173 non-null    object \n",
      " 35  MALHA                 173 non-null    float64\n",
      " 36  PEDIDO.1              0 non-null      float64\n",
      " 37  PALETES               355 non-null    int64  \n",
      " 38  COMPLEMENTO           355 non-null    float64\n",
      " 39  COTA                  186 non-null    object \n",
      " 40  STATUS BI             186 non-null    object \n",
      " 41  ESTOQUE.1             165 non-null    float64\n",
      " 42  $$$$$                 343 non-null    float64\n",
      " 43  ESTOQUE REAL          355 non-null    float64\n",
      " 44  ESTOQUE MÍNIMO        343 non-null    float64\n",
      " 45  ESTOQUE MÁXIMO        343 non-null    float64\n",
      " 46  PERCENTUAL OVER/DOWN  268 non-null    float64\n",
      " 47  OVER/DOWN             343 non-null    float64\n",
      " 48  ESTOQUE SEM\n",
      "TRANSITO  355 non-null    float64\n",
      " 49  IMPACTO               268 non-null    float64\n",
      " 50  Trava                 355 non-null    int64  \n",
      " 51  Indip                 160 non-null    float64\n",
      "dtypes: float64(34), int64(9), object(9)\n",
      "memory usage: 144.3+ KB\n"
     ]
    }
   ],
   "source": [
    "pedido.info()"
   ]
  },
  {
   "cell_type": "code",
   "execution_count": 16,
   "metadata": {},
   "outputs": [
    {
     "data": {
      "text/plain": [
       "9320"
      ]
     },
     "execution_count": 16,
     "metadata": {},
     "output_type": "execute_result"
    }
   ],
   "source": [
    "pedido['Código Promax'][0]"
   ]
  },
  {
   "cell_type": "code",
   "execution_count": 14,
   "metadata": {},
   "outputs": [
    {
     "data": {
      "text/plain": [
       "0       9320\n",
       "1       1695\n",
       "2      25837\n",
       "3       7982\n",
       "4       7980\n",
       "       ...  \n",
       "350     4174\n",
       "351     4219\n",
       "352    22106\n",
       "353    22050\n",
       "354    26994\n",
       "Name: Código Promax, Length: 355, dtype: int64"
      ]
     },
     "execution_count": 14,
     "metadata": {},
     "output_type": "execute_result"
    }
   ],
   "source": [
    "pedido['ESTOQUE \\nPALETE']"
   ]
  },
  {
   "cell_type": "code",
   "execution_count": 11,
   "metadata": {},
   "outputs": [
    {
     "data": {
      "text/plain": [
       "473725.52780303033"
      ]
     },
     "execution_count": 11,
     "metadata": {},
     "output_type": "execute_result"
    }
   ],
   "source": [
    "pedido[pedido['Categorização'] == '003 - MKTP']['ESTOQUE REAL'].sum()\n"
   ]
  }
 ],
 "metadata": {
  "kernelspec": {
   "display_name": "venv",
   "language": "python",
   "name": "python3"
  },
  "language_info": {
   "codemirror_mode": {
    "name": "ipython",
    "version": 3
   },
   "file_extension": ".py",
   "mimetype": "text/x-python",
   "name": "python",
   "nbconvert_exporter": "python",
   "pygments_lexer": "ipython3",
   "version": "3.9.0"
  }
 },
 "nbformat": 4,
 "nbformat_minor": 2
}
