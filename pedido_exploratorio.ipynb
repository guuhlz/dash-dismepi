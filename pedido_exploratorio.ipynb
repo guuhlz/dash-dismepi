{
 "cells": [
  {
   "cell_type": "code",
   "execution_count": 86,
   "metadata": {},
   "outputs": [],
   "source": [
    "import pandas as pd\n",
    "from pedidos import Pedido"
   ]
  },
  {
   "cell_type": "code",
   "execution_count": 87,
   "metadata": {},
   "outputs": [],
   "source": [
    "ped = Pedido('./data/PLANILHA DE PEDIDO DISMEPI_st.xlsx')"
   ]
  },
  {
   "cell_type": "code",
   "execution_count": 88,
   "metadata": {},
   "outputs": [
    {
     "ename": "AttributeError",
     "evalue": "'Pedido' object has no attribute 'info'",
     "output_type": "error",
     "traceback": [
      "\u001b[1;31m---------------------------------------------------------------------------\u001b[0m",
      "\u001b[1;31mAttributeError\u001b[0m                            Traceback (most recent call last)",
      "Cell \u001b[1;32mIn[88], line 1\u001b[0m\n\u001b[1;32m----> 1\u001b[0m \u001b[43mped\u001b[49m\u001b[38;5;241;43m.\u001b[39;49m\u001b[43minfo\u001b[49m()\n",
      "\u001b[1;31mAttributeError\u001b[0m: 'Pedido' object has no attribute 'info'"
     ]
    }
   ],
   "source": [
    "ped.info()"
   ]
  },
  {
   "cell_type": "code",
   "execution_count": 84,
   "metadata": {},
   "outputs": [
    {
     "ename": "TypeError",
     "evalue": "'Pedido' object is not subscriptable",
     "output_type": "error",
     "traceback": [
      "\u001b[1;31m---------------------------------------------------------------------------\u001b[0m",
      "\u001b[1;31mTypeError\u001b[0m                                 Traceback (most recent call last)",
      "Cell \u001b[1;32mIn[84], line 1\u001b[0m\n\u001b[1;32m----> 1\u001b[0m ped[\u001b[38;5;124m'\u001b[39m\u001b[38;5;124mFEFO/ESTOQUE\u001b[39m\u001b[38;5;124m'\u001b[39m] \u001b[38;5;241m=\u001b[39m \u001b[43mped\u001b[49m\u001b[43m[\u001b[49m\u001b[38;5;124;43m'\u001b[39;49m\u001b[38;5;124;43mFEFO/ESTOQUE\u001b[39;49m\u001b[38;5;124;43m'\u001b[39;49m\u001b[43m]\u001b[49m\u001b[38;5;241m.\u001b[39mapply(\u001b[38;5;28;01mlambda\u001b[39;00m x: x\u001b[38;5;241m.\u001b[39mstrftime(\u001b[38;5;124m'\u001b[39m\u001b[38;5;132;01m%d\u001b[39;00m\u001b[38;5;124m/\u001b[39m\u001b[38;5;124m%\u001b[39m\u001b[38;5;124mm/\u001b[39m\u001b[38;5;124m%\u001b[39m\u001b[38;5;124mY\u001b[39m\u001b[38;5;124m'\u001b[39m))\n",
      "\u001b[1;31mTypeError\u001b[0m: 'Pedido' object is not subscriptable"
     ]
    }
   ],
   "source": [
    "ped['FEFO/ESTOQUE'] = ped['FEFO/ESTOQUE'].apply(lambda x: x.strftime('%d/%m/%Y'))"
   ]
  },
  {
   "cell_type": "code",
   "execution_count": 77,
   "metadata": {},
   "outputs": [],
   "source": [
    " df = pd.melt(ped.estoque_top10_impacto_over(),\n",
    "                 id_vars=['Prod_resume','Prod. Completo','FEFO/ESTOQUE'],\n",
    "                 value_vars=[\"IMPACTO\",\"OVER/DOWN\"],\n",
    "                 var_name=\"Dados\",\n",
    "                 value_name=\"Value\"\n",
    "                )"
   ]
  },
  {
   "cell_type": "code",
   "execution_count": 78,
   "metadata": {},
   "outputs": [
    {
     "data": {
      "text/html": [
       "<div>\n",
       "<style scoped>\n",
       "    .dataframe tbody tr th:only-of-type {\n",
       "        vertical-align: middle;\n",
       "    }\n",
       "\n",
       "    .dataframe tbody tr th {\n",
       "        vertical-align: top;\n",
       "    }\n",
       "\n",
       "    .dataframe thead th {\n",
       "        text-align: right;\n",
       "    }\n",
       "</style>\n",
       "<table border=\"1\" class=\"dataframe\">\n",
       "  <thead>\n",
       "    <tr style=\"text-align: right;\">\n",
       "      <th></th>\n",
       "      <th>Prod_resume</th>\n",
       "      <th>Prod. Completo</th>\n",
       "      <th>FEFO/ESTOQUE</th>\n",
       "      <th>Dados</th>\n",
       "      <th>Value</th>\n",
       "    </tr>\n",
       "  </thead>\n",
       "  <tbody>\n",
       "    <tr>\n",
       "      <th>0</th>\n",
       "      <td>RB BR LT355</td>\n",
       "      <td>RED BULL BR LATA 355ML FOUR PACK .</td>\n",
       "      <td>2025-12-01 00:00:00</td>\n",
       "      <td>IMPACTO</td>\n",
       "      <td>1.491799e+06</td>\n",
       "    </tr>\n",
       "    <tr>\n",
       "      <th>1</th>\n",
       "      <td>CR 473</td>\n",
       "      <td>CORONA EXTRA N LT 473ML CX CARTAO C/12</td>\n",
       "      <td>2025-02-03 00:00:00</td>\n",
       "      <td>IMPACTO</td>\n",
       "      <td>1.437269e+06</td>\n",
       "    </tr>\n",
       "    <tr>\n",
       "      <th>2</th>\n",
       "      <td>AP LT473</td>\n",
       "      <td>ANTARCTICA PILSEN LT 473ML SH C/12 NPAL</td>\n",
       "      <td>2025-01-23 00:00:00</td>\n",
       "      <td>IMPACTO</td>\n",
       "      <td>1.358422e+06</td>\n",
       "    </tr>\n",
       "    <tr>\n",
       "      <th>3</th>\n",
       "      <td>RB PITAYA</td>\n",
       "      <td>RED BULL PITAYA LATA 250ML FOUR PACK NPAL</td>\n",
       "      <td>-</td>\n",
       "      <td>IMPACTO</td>\n",
       "      <td>9.663253e+05</td>\n",
       "    </tr>\n",
       "    <tr>\n",
       "      <th>4</th>\n",
       "      <td>ORIGINAL LT269</td>\n",
       "      <td>ORIGINAL LT 269ML CX CARTAO C/8 NPAL</td>\n",
       "      <td>-</td>\n",
       "      <td>IMPACTO</td>\n",
       "      <td>6.596917e+05</td>\n",
       "    </tr>\n",
       "    <tr>\n",
       "      <th>5</th>\n",
       "      <td>S ARTOIS LTSL350</td>\n",
       "      <td>STELLA ARTOIS LT SLEEK 350ML C 8 CX CARTAO</td>\n",
       "      <td>2024-10-29 00:00:00</td>\n",
       "      <td>IMPACTO</td>\n",
       "      <td>4.800624e+05</td>\n",
       "    </tr>\n",
       "    <tr>\n",
       "      <th>6</th>\n",
       "      <td>GCA P500</td>\n",
       "      <td>GUARANA CHP ANTARCTICA PET 500ML SHRINK C/12</td>\n",
       "      <td>2024-09-22 00:00:00</td>\n",
       "      <td>IMPACTO</td>\n",
       "      <td>4.633031e+05</td>\n",
       "    </tr>\n",
       "    <tr>\n",
       "      <th>7</th>\n",
       "      <td>RB SF BR LT250</td>\n",
       "      <td>RED BULL SUGAR FREE BR LATA 250ML FOUR PACK N</td>\n",
       "      <td>-</td>\n",
       "      <td>IMPACTO</td>\n",
       "      <td>4.102535e+05</td>\n",
       "    </tr>\n",
       "    <tr>\n",
       "      <th>8</th>\n",
       "      <td>BKN LN330</td>\n",
       "      <td>BECKS N LONG NECK 330ML SIX-PACK SHRINK C/4</td>\n",
       "      <td>2025-01-18 00:00:00</td>\n",
       "      <td>IMPACTO</td>\n",
       "      <td>2.027830e+05</td>\n",
       "    </tr>\n",
       "    <tr>\n",
       "      <th>9</th>\n",
       "      <td>PC LT350</td>\n",
       "      <td>PEPSI COLA LATA 350ML SH C/12 NPAL</td>\n",
       "      <td>2024-11-14 00:00:00</td>\n",
       "      <td>IMPACTO</td>\n",
       "      <td>1.717404e+05</td>\n",
       "    </tr>\n",
       "    <tr>\n",
       "      <th>10</th>\n",
       "      <td>RB BR LT355</td>\n",
       "      <td>RED BULL BR LATA 355ML FOUR PACK .</td>\n",
       "      <td>2025-12-01 00:00:00</td>\n",
       "      <td>OVER/DOWN</td>\n",
       "      <td>2.370859e+04</td>\n",
       "    </tr>\n",
       "    <tr>\n",
       "      <th>11</th>\n",
       "      <td>CR 473</td>\n",
       "      <td>CORONA EXTRA N LT 473ML CX CARTAO C/12</td>\n",
       "      <td>2025-02-03 00:00:00</td>\n",
       "      <td>OVER/DOWN</td>\n",
       "      <td>2.069566e+05</td>\n",
       "    </tr>\n",
       "    <tr>\n",
       "      <th>12</th>\n",
       "      <td>AP LT473</td>\n",
       "      <td>ANTARCTICA PILSEN LT 473ML SH C/12 NPAL</td>\n",
       "      <td>2025-01-23 00:00:00</td>\n",
       "      <td>OVER/DOWN</td>\n",
       "      <td>2.127554e+05</td>\n",
       "    </tr>\n",
       "    <tr>\n",
       "      <th>13</th>\n",
       "      <td>RB PITAYA</td>\n",
       "      <td>RED BULL PITAYA LATA 250ML FOUR PACK NPAL</td>\n",
       "      <td>-</td>\n",
       "      <td>OVER/DOWN</td>\n",
       "      <td>2.417614e+04</td>\n",
       "    </tr>\n",
       "    <tr>\n",
       "      <th>14</th>\n",
       "      <td>ORIGINAL LT269</td>\n",
       "      <td>ORIGINAL LT 269ML CX CARTAO C/8 NPAL</td>\n",
       "      <td>-</td>\n",
       "      <td>OVER/DOWN</td>\n",
       "      <td>9.352023e+03</td>\n",
       "    </tr>\n",
       "    <tr>\n",
       "      <th>15</th>\n",
       "      <td>S ARTOIS LTSL350</td>\n",
       "      <td>STELLA ARTOIS LT SLEEK 350ML C 8 CX CARTAO</td>\n",
       "      <td>2024-10-29 00:00:00</td>\n",
       "      <td>OVER/DOWN</td>\n",
       "      <td>2.414257e+04</td>\n",
       "    </tr>\n",
       "    <tr>\n",
       "      <th>16</th>\n",
       "      <td>GCA P500</td>\n",
       "      <td>GUARANA CHP ANTARCTICA PET 500ML SHRINK C/12</td>\n",
       "      <td>2024-09-22 00:00:00</td>\n",
       "      <td>OVER/DOWN</td>\n",
       "      <td>6.177375e+03</td>\n",
       "    </tr>\n",
       "    <tr>\n",
       "      <th>17</th>\n",
       "      <td>RB SF BR LT250</td>\n",
       "      <td>RED BULL SUGAR FREE BR LATA 250ML FOUR PACK N</td>\n",
       "      <td>-</td>\n",
       "      <td>OVER/DOWN</td>\n",
       "      <td>2.180080e+04</td>\n",
       "    </tr>\n",
       "    <tr>\n",
       "      <th>18</th>\n",
       "      <td>BKN LN330</td>\n",
       "      <td>BECKS N LONG NECK 330ML SIX-PACK SHRINK C/4</td>\n",
       "      <td>2025-01-18 00:00:00</td>\n",
       "      <td>OVER/DOWN</td>\n",
       "      <td>1.122778e+04</td>\n",
       "    </tr>\n",
       "    <tr>\n",
       "      <th>19</th>\n",
       "      <td>PC LT350</td>\n",
       "      <td>PEPSI COLA LATA 350ML SH C/12 NPAL</td>\n",
       "      <td>2024-11-14 00:00:00</td>\n",
       "      <td>OVER/DOWN</td>\n",
       "      <td>2.582578e+04</td>\n",
       "    </tr>\n",
       "  </tbody>\n",
       "</table>\n",
       "</div>"
      ],
      "text/plain": [
       "         Prod_resume                                 Prod. Completo  \\\n",
       "0        RB BR LT355  RED BULL BR LATA 355ML FOUR PACK .              \n",
       "1             CR 473  CORONA EXTRA N LT 473ML CX CARTAO C/12          \n",
       "2           AP LT473  ANTARCTICA PILSEN LT 473ML SH C/12 NPAL         \n",
       "3          RB PITAYA  RED BULL PITAYA LATA 250ML FOUR PACK NPAL       \n",
       "4     ORIGINAL LT269  ORIGINAL LT 269ML CX CARTAO C/8 NPAL            \n",
       "5   S ARTOIS LTSL350  STELLA ARTOIS LT SLEEK 350ML C 8 CX CARTAO      \n",
       "6           GCA P500  GUARANA CHP ANTARCTICA PET 500ML SHRINK C/12    \n",
       "7     RB SF BR LT250  RED BULL SUGAR FREE BR LATA 250ML FOUR PACK N   \n",
       "8          BKN LN330  BECKS N LONG NECK 330ML SIX-PACK SHRINK C/4     \n",
       "9           PC LT350  PEPSI COLA LATA 350ML SH C/12 NPAL              \n",
       "10       RB BR LT355  RED BULL BR LATA 355ML FOUR PACK .              \n",
       "11            CR 473  CORONA EXTRA N LT 473ML CX CARTAO C/12          \n",
       "12          AP LT473  ANTARCTICA PILSEN LT 473ML SH C/12 NPAL         \n",
       "13         RB PITAYA  RED BULL PITAYA LATA 250ML FOUR PACK NPAL       \n",
       "14    ORIGINAL LT269  ORIGINAL LT 269ML CX CARTAO C/8 NPAL            \n",
       "15  S ARTOIS LTSL350  STELLA ARTOIS LT SLEEK 350ML C 8 CX CARTAO      \n",
       "16          GCA P500  GUARANA CHP ANTARCTICA PET 500ML SHRINK C/12    \n",
       "17    RB SF BR LT250  RED BULL SUGAR FREE BR LATA 250ML FOUR PACK N   \n",
       "18         BKN LN330  BECKS N LONG NECK 330ML SIX-PACK SHRINK C/4     \n",
       "19          PC LT350  PEPSI COLA LATA 350ML SH C/12 NPAL              \n",
       "\n",
       "           FEFO/ESTOQUE      Dados         Value  \n",
       "0   2025-12-01 00:00:00    IMPACTO  1.491799e+06  \n",
       "1   2025-02-03 00:00:00    IMPACTO  1.437269e+06  \n",
       "2   2025-01-23 00:00:00    IMPACTO  1.358422e+06  \n",
       "3                     -    IMPACTO  9.663253e+05  \n",
       "4                     -    IMPACTO  6.596917e+05  \n",
       "5   2024-10-29 00:00:00    IMPACTO  4.800624e+05  \n",
       "6   2024-09-22 00:00:00    IMPACTO  4.633031e+05  \n",
       "7                     -    IMPACTO  4.102535e+05  \n",
       "8   2025-01-18 00:00:00    IMPACTO  2.027830e+05  \n",
       "9   2024-11-14 00:00:00    IMPACTO  1.717404e+05  \n",
       "10  2025-12-01 00:00:00  OVER/DOWN  2.370859e+04  \n",
       "11  2025-02-03 00:00:00  OVER/DOWN  2.069566e+05  \n",
       "12  2025-01-23 00:00:00  OVER/DOWN  2.127554e+05  \n",
       "13                    -  OVER/DOWN  2.417614e+04  \n",
       "14                    -  OVER/DOWN  9.352023e+03  \n",
       "15  2024-10-29 00:00:00  OVER/DOWN  2.414257e+04  \n",
       "16  2024-09-22 00:00:00  OVER/DOWN  6.177375e+03  \n",
       "17                    -  OVER/DOWN  2.180080e+04  \n",
       "18  2025-01-18 00:00:00  OVER/DOWN  1.122778e+04  \n",
       "19  2024-11-14 00:00:00  OVER/DOWN  2.582578e+04  "
      ]
     },
     "execution_count": 78,
     "metadata": {},
     "output_type": "execute_result"
    }
   ],
   "source": [
    "df"
   ]
  },
  {
   "cell_type": "code",
   "execution_count": 79,
   "metadata": {},
   "outputs": [
    {
     "name": "stdout",
     "output_type": "stream",
     "text": [
      "<class 'pandas.core.frame.DataFrame'>\n",
      "RangeIndex: 20 entries, 0 to 19\n",
      "Data columns (total 5 columns):\n",
      " #   Column          Non-Null Count  Dtype  \n",
      "---  ------          --------------  -----  \n",
      " 0   Prod_resume     20 non-null     object \n",
      " 1   Prod. Completo  20 non-null     object \n",
      " 2   FEFO/ESTOQUE    20 non-null     object \n",
      " 3   Dados           20 non-null     object \n",
      " 4   Value           20 non-null     float64\n",
      "dtypes: float64(1), object(4)\n",
      "memory usage: 928.0+ bytes\n"
     ]
    }
   ],
   "source": [
    "df.info()"
   ]
  },
  {
   "cell_type": "code",
   "execution_count": null,
   "metadata": {},
   "outputs": [],
   "source": [
    "df['FEFO/ESTOQUE'][]"
   ]
  },
  {
   "cell_type": "code",
   "execution_count": 80,
   "metadata": {},
   "outputs": [
    {
     "ename": "AttributeError",
     "evalue": "'str' object has no attribute 'strftime'",
     "output_type": "error",
     "traceback": [
      "\u001b[1;31m---------------------------------------------------------------------------\u001b[0m",
      "\u001b[1;31mAttributeError\u001b[0m                            Traceback (most recent call last)",
      "Cell \u001b[1;32mIn[80], line 1\u001b[0m\n\u001b[1;32m----> 1\u001b[0m df[\u001b[38;5;124m'\u001b[39m\u001b[38;5;124mFEFO/ESTOQUE\u001b[39m\u001b[38;5;124m'\u001b[39m] \u001b[38;5;241m=\u001b[39m \u001b[43mdf\u001b[49m\u001b[43m[\u001b[49m\u001b[38;5;124;43m'\u001b[39;49m\u001b[38;5;124;43mFEFO/ESTOQUE\u001b[39;49m\u001b[38;5;124;43m'\u001b[39;49m\u001b[43m]\u001b[49m\u001b[38;5;241;43m.\u001b[39;49m\u001b[43mapply\u001b[49m\u001b[43m(\u001b[49m\u001b[38;5;28;43;01mlambda\u001b[39;49;00m\u001b[43m \u001b[49m\u001b[43mx\u001b[49m\u001b[43m:\u001b[49m\u001b[43m \u001b[49m\u001b[43mx\u001b[49m\u001b[38;5;241;43m.\u001b[39;49m\u001b[43mstrftime\u001b[49m\u001b[43m(\u001b[49m\u001b[38;5;124;43m'\u001b[39;49m\u001b[38;5;132;43;01m%d\u001b[39;49;00m\u001b[38;5;124;43m/\u001b[39;49m\u001b[38;5;124;43m%\u001b[39;49m\u001b[38;5;124;43mm/\u001b[39;49m\u001b[38;5;124;43m%\u001b[39;49m\u001b[38;5;124;43mY\u001b[39;49m\u001b[38;5;124;43m'\u001b[39;49m\u001b[43m)\u001b[49m\u001b[43m)\u001b[49m\n",
      "File \u001b[1;32mc:\\Gustavo\\dash_streamlit\\venv\\lib\\site-packages\\pandas\\core\\series.py:4917\u001b[0m, in \u001b[0;36mSeries.apply\u001b[1;34m(self, func, convert_dtype, args, by_row, **kwargs)\u001b[0m\n\u001b[0;32m   4789\u001b[0m \u001b[38;5;28;01mdef\u001b[39;00m \u001b[38;5;21mapply\u001b[39m(\n\u001b[0;32m   4790\u001b[0m     \u001b[38;5;28mself\u001b[39m,\n\u001b[0;32m   4791\u001b[0m     func: AggFuncType,\n\u001b[1;32m   (...)\u001b[0m\n\u001b[0;32m   4796\u001b[0m     \u001b[38;5;241m*\u001b[39m\u001b[38;5;241m*\u001b[39mkwargs,\n\u001b[0;32m   4797\u001b[0m ) \u001b[38;5;241m-\u001b[39m\u001b[38;5;241m>\u001b[39m DataFrame \u001b[38;5;241m|\u001b[39m Series:\n\u001b[0;32m   4798\u001b[0m \u001b[38;5;250m    \u001b[39m\u001b[38;5;124;03m\"\"\"\u001b[39;00m\n\u001b[0;32m   4799\u001b[0m \u001b[38;5;124;03m    Invoke function on values of Series.\u001b[39;00m\n\u001b[0;32m   4800\u001b[0m \n\u001b[1;32m   (...)\u001b[0m\n\u001b[0;32m   4915\u001b[0m \u001b[38;5;124;03m    dtype: float64\u001b[39;00m\n\u001b[0;32m   4916\u001b[0m \u001b[38;5;124;03m    \"\"\"\u001b[39;00m\n\u001b[1;32m-> 4917\u001b[0m     \u001b[38;5;28;01mreturn\u001b[39;00m \u001b[43mSeriesApply\u001b[49m\u001b[43m(\u001b[49m\n\u001b[0;32m   4918\u001b[0m \u001b[43m        \u001b[49m\u001b[38;5;28;43mself\u001b[39;49m\u001b[43m,\u001b[49m\n\u001b[0;32m   4919\u001b[0m \u001b[43m        \u001b[49m\u001b[43mfunc\u001b[49m\u001b[43m,\u001b[49m\n\u001b[0;32m   4920\u001b[0m \u001b[43m        \u001b[49m\u001b[43mconvert_dtype\u001b[49m\u001b[38;5;241;43m=\u001b[39;49m\u001b[43mconvert_dtype\u001b[49m\u001b[43m,\u001b[49m\n\u001b[0;32m   4921\u001b[0m \u001b[43m        \u001b[49m\u001b[43mby_row\u001b[49m\u001b[38;5;241;43m=\u001b[39;49m\u001b[43mby_row\u001b[49m\u001b[43m,\u001b[49m\n\u001b[0;32m   4922\u001b[0m \u001b[43m        \u001b[49m\u001b[43margs\u001b[49m\u001b[38;5;241;43m=\u001b[39;49m\u001b[43margs\u001b[49m\u001b[43m,\u001b[49m\n\u001b[0;32m   4923\u001b[0m \u001b[43m        \u001b[49m\u001b[43mkwargs\u001b[49m\u001b[38;5;241;43m=\u001b[39;49m\u001b[43mkwargs\u001b[49m\u001b[43m,\u001b[49m\n\u001b[0;32m   4924\u001b[0m \u001b[43m    \u001b[49m\u001b[43m)\u001b[49m\u001b[38;5;241;43m.\u001b[39;49m\u001b[43mapply\u001b[49m\u001b[43m(\u001b[49m\u001b[43m)\u001b[49m\n",
      "File \u001b[1;32mc:\\Gustavo\\dash_streamlit\\venv\\lib\\site-packages\\pandas\\core\\apply.py:1427\u001b[0m, in \u001b[0;36mSeriesApply.apply\u001b[1;34m(self)\u001b[0m\n\u001b[0;32m   1424\u001b[0m     \u001b[38;5;28;01mreturn\u001b[39;00m \u001b[38;5;28mself\u001b[39m\u001b[38;5;241m.\u001b[39mapply_compat()\n\u001b[0;32m   1426\u001b[0m \u001b[38;5;66;03m# self.func is Callable\u001b[39;00m\n\u001b[1;32m-> 1427\u001b[0m \u001b[38;5;28;01mreturn\u001b[39;00m \u001b[38;5;28;43mself\u001b[39;49m\u001b[38;5;241;43m.\u001b[39;49m\u001b[43mapply_standard\u001b[49m\u001b[43m(\u001b[49m\u001b[43m)\u001b[49m\n",
      "File \u001b[1;32mc:\\Gustavo\\dash_streamlit\\venv\\lib\\site-packages\\pandas\\core\\apply.py:1507\u001b[0m, in \u001b[0;36mSeriesApply.apply_standard\u001b[1;34m(self)\u001b[0m\n\u001b[0;32m   1501\u001b[0m \u001b[38;5;66;03m# row-wise access\u001b[39;00m\n\u001b[0;32m   1502\u001b[0m \u001b[38;5;66;03m# apply doesn't have a `na_action` keyword and for backward compat reasons\u001b[39;00m\n\u001b[0;32m   1503\u001b[0m \u001b[38;5;66;03m# we need to give `na_action=\"ignore\"` for categorical data.\u001b[39;00m\n\u001b[0;32m   1504\u001b[0m \u001b[38;5;66;03m# TODO: remove the `na_action=\"ignore\"` when that default has been changed in\u001b[39;00m\n\u001b[0;32m   1505\u001b[0m \u001b[38;5;66;03m#  Categorical (GH51645).\u001b[39;00m\n\u001b[0;32m   1506\u001b[0m action \u001b[38;5;241m=\u001b[39m \u001b[38;5;124m\"\u001b[39m\u001b[38;5;124mignore\u001b[39m\u001b[38;5;124m\"\u001b[39m \u001b[38;5;28;01mif\u001b[39;00m \u001b[38;5;28misinstance\u001b[39m(obj\u001b[38;5;241m.\u001b[39mdtype, CategoricalDtype) \u001b[38;5;28;01melse\u001b[39;00m \u001b[38;5;28;01mNone\u001b[39;00m\n\u001b[1;32m-> 1507\u001b[0m mapped \u001b[38;5;241m=\u001b[39m \u001b[43mobj\u001b[49m\u001b[38;5;241;43m.\u001b[39;49m\u001b[43m_map_values\u001b[49m\u001b[43m(\u001b[49m\n\u001b[0;32m   1508\u001b[0m \u001b[43m    \u001b[49m\u001b[43mmapper\u001b[49m\u001b[38;5;241;43m=\u001b[39;49m\u001b[43mcurried\u001b[49m\u001b[43m,\u001b[49m\u001b[43m \u001b[49m\u001b[43mna_action\u001b[49m\u001b[38;5;241;43m=\u001b[39;49m\u001b[43maction\u001b[49m\u001b[43m,\u001b[49m\u001b[43m \u001b[49m\u001b[43mconvert\u001b[49m\u001b[38;5;241;43m=\u001b[39;49m\u001b[38;5;28;43mself\u001b[39;49m\u001b[38;5;241;43m.\u001b[39;49m\u001b[43mconvert_dtype\u001b[49m\n\u001b[0;32m   1509\u001b[0m \u001b[43m\u001b[49m\u001b[43m)\u001b[49m\n\u001b[0;32m   1511\u001b[0m \u001b[38;5;28;01mif\u001b[39;00m \u001b[38;5;28mlen\u001b[39m(mapped) \u001b[38;5;129;01mand\u001b[39;00m \u001b[38;5;28misinstance\u001b[39m(mapped[\u001b[38;5;241m0\u001b[39m], ABCSeries):\n\u001b[0;32m   1512\u001b[0m     \u001b[38;5;66;03m# GH#43986 Need to do list(mapped) in order to get treated as nested\u001b[39;00m\n\u001b[0;32m   1513\u001b[0m     \u001b[38;5;66;03m#  See also GH#25959 regarding EA support\u001b[39;00m\n\u001b[0;32m   1514\u001b[0m     \u001b[38;5;28;01mreturn\u001b[39;00m obj\u001b[38;5;241m.\u001b[39m_constructor_expanddim(\u001b[38;5;28mlist\u001b[39m(mapped), index\u001b[38;5;241m=\u001b[39mobj\u001b[38;5;241m.\u001b[39mindex)\n",
      "File \u001b[1;32mc:\\Gustavo\\dash_streamlit\\venv\\lib\\site-packages\\pandas\\core\\base.py:921\u001b[0m, in \u001b[0;36mIndexOpsMixin._map_values\u001b[1;34m(self, mapper, na_action, convert)\u001b[0m\n\u001b[0;32m    918\u001b[0m \u001b[38;5;28;01mif\u001b[39;00m \u001b[38;5;28misinstance\u001b[39m(arr, ExtensionArray):\n\u001b[0;32m    919\u001b[0m     \u001b[38;5;28;01mreturn\u001b[39;00m arr\u001b[38;5;241m.\u001b[39mmap(mapper, na_action\u001b[38;5;241m=\u001b[39mna_action)\n\u001b[1;32m--> 921\u001b[0m \u001b[38;5;28;01mreturn\u001b[39;00m \u001b[43malgorithms\u001b[49m\u001b[38;5;241;43m.\u001b[39;49m\u001b[43mmap_array\u001b[49m\u001b[43m(\u001b[49m\u001b[43marr\u001b[49m\u001b[43m,\u001b[49m\u001b[43m \u001b[49m\u001b[43mmapper\u001b[49m\u001b[43m,\u001b[49m\u001b[43m \u001b[49m\u001b[43mna_action\u001b[49m\u001b[38;5;241;43m=\u001b[39;49m\u001b[43mna_action\u001b[49m\u001b[43m,\u001b[49m\u001b[43m \u001b[49m\u001b[43mconvert\u001b[49m\u001b[38;5;241;43m=\u001b[39;49m\u001b[43mconvert\u001b[49m\u001b[43m)\u001b[49m\n",
      "File \u001b[1;32mc:\\Gustavo\\dash_streamlit\\venv\\lib\\site-packages\\pandas\\core\\algorithms.py:1743\u001b[0m, in \u001b[0;36mmap_array\u001b[1;34m(arr, mapper, na_action, convert)\u001b[0m\n\u001b[0;32m   1741\u001b[0m values \u001b[38;5;241m=\u001b[39m arr\u001b[38;5;241m.\u001b[39mastype(\u001b[38;5;28mobject\u001b[39m, copy\u001b[38;5;241m=\u001b[39m\u001b[38;5;28;01mFalse\u001b[39;00m)\n\u001b[0;32m   1742\u001b[0m \u001b[38;5;28;01mif\u001b[39;00m na_action \u001b[38;5;129;01mis\u001b[39;00m \u001b[38;5;28;01mNone\u001b[39;00m:\n\u001b[1;32m-> 1743\u001b[0m     \u001b[38;5;28;01mreturn\u001b[39;00m \u001b[43mlib\u001b[49m\u001b[38;5;241;43m.\u001b[39;49m\u001b[43mmap_infer\u001b[49m\u001b[43m(\u001b[49m\u001b[43mvalues\u001b[49m\u001b[43m,\u001b[49m\u001b[43m \u001b[49m\u001b[43mmapper\u001b[49m\u001b[43m,\u001b[49m\u001b[43m \u001b[49m\u001b[43mconvert\u001b[49m\u001b[38;5;241;43m=\u001b[39;49m\u001b[43mconvert\u001b[49m\u001b[43m)\u001b[49m\n\u001b[0;32m   1744\u001b[0m \u001b[38;5;28;01melse\u001b[39;00m:\n\u001b[0;32m   1745\u001b[0m     \u001b[38;5;28;01mreturn\u001b[39;00m lib\u001b[38;5;241m.\u001b[39mmap_infer_mask(\n\u001b[0;32m   1746\u001b[0m         values, mapper, mask\u001b[38;5;241m=\u001b[39misna(values)\u001b[38;5;241m.\u001b[39mview(np\u001b[38;5;241m.\u001b[39muint8), convert\u001b[38;5;241m=\u001b[39mconvert\n\u001b[0;32m   1747\u001b[0m     )\n",
      "File \u001b[1;32mlib.pyx:2972\u001b[0m, in \u001b[0;36mpandas._libs.lib.map_infer\u001b[1;34m()\u001b[0m\n",
      "Cell \u001b[1;32mIn[80], line 1\u001b[0m, in \u001b[0;36m<lambda>\u001b[1;34m(x)\u001b[0m\n\u001b[1;32m----> 1\u001b[0m df[\u001b[38;5;124m'\u001b[39m\u001b[38;5;124mFEFO/ESTOQUE\u001b[39m\u001b[38;5;124m'\u001b[39m] \u001b[38;5;241m=\u001b[39m df[\u001b[38;5;124m'\u001b[39m\u001b[38;5;124mFEFO/ESTOQUE\u001b[39m\u001b[38;5;124m'\u001b[39m]\u001b[38;5;241m.\u001b[39mapply(\u001b[38;5;28;01mlambda\u001b[39;00m x: \u001b[43mx\u001b[49m\u001b[38;5;241;43m.\u001b[39;49m\u001b[43mstrftime\u001b[49m(\u001b[38;5;124m'\u001b[39m\u001b[38;5;132;01m%d\u001b[39;00m\u001b[38;5;124m/\u001b[39m\u001b[38;5;124m%\u001b[39m\u001b[38;5;124mm/\u001b[39m\u001b[38;5;124m%\u001b[39m\u001b[38;5;124mY\u001b[39m\u001b[38;5;124m'\u001b[39m))\n",
      "\u001b[1;31mAttributeError\u001b[0m: 'str' object has no attribute 'strftime'"
     ]
    }
   ],
   "source": [
    "df['FEFO/ESTOQUE'] = df['FEFO/ESTOQUE'].apply(lambda x: x.strftime('%d/%m/%Y'))\n"
   ]
  },
  {
   "cell_type": "code",
   "execution_count": null,
   "metadata": {},
   "outputs": [
    {
     "data": {
      "text/plain": [
       "datetime.date(2025, 12, 1)"
      ]
     },
     "execution_count": 54,
     "metadata": {},
     "output_type": "execute_result"
    }
   ],
   "source": [
    "from datetime import datetime\n",
    "datetime.date(df['FEFO/ESTOQUE'][0])"
   ]
  }
 ],
 "metadata": {
  "kernelspec": {
   "display_name": "venv",
   "language": "python",
   "name": "python3"
  },
  "language_info": {
   "codemirror_mode": {
    "name": "ipython",
    "version": 3
   },
   "file_extension": ".py",
   "mimetype": "text/x-python",
   "name": "python",
   "nbconvert_exporter": "python",
   "pygments_lexer": "ipython3",
   "version": "3.9.0"
  }
 },
 "nbformat": 4,
 "nbformat_minor": 2
}
