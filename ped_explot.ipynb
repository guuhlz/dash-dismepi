{
 "cells": [
  {
   "cell_type": "code",
   "execution_count": 1,
   "metadata": {},
   "outputs": [],
   "source": [
    "import pandas as pd"
   ]
  },
  {
   "cell_type": "code",
   "execution_count": 6,
   "metadata": {},
   "outputs": [],
   "source": [
    "df1 = pd.read_excel('./data/PLANILHA DE PEDIDO DISMEPI_st.xlsx',sheet_name='PEDIDO')\n",
    "df2 = pd.read_excel('./data/desc_produtos.xlsx',sheet_name='Prod')"
   ]
  },
  {
   "cell_type": "code",
   "execution_count": 12,
   "metadata": {},
   "outputs": [],
   "source": [
    "df1 = df1.merge(df2,on='Código Promax',how='outer')"
   ]
  },
  {
   "cell_type": "code",
   "execution_count": 14,
   "metadata": {},
   "outputs": [
    {
     "name": "stdout",
     "output_type": "stream",
     "text": [
      "<class 'pandas.core.frame.DataFrame'>\n",
      "RangeIndex: 372 entries, 0 to 371\n",
      "Data columns (total 55 columns):\n",
      " #   Column                Non-Null Count  Dtype  \n",
      "---  ------                --------------  -----  \n",
      " 0   Embalagem             181 non-null    object \n",
      " 1   Cód. Prod. SAP        325 non-null    object \n",
      " 2   Categorização         371 non-null    object \n",
      " 3   Cod.                  334 non-null    object \n",
      " 4   Código Promax         371 non-null    float64\n",
      " 5   Prod. Completo        371 non-null    object \n",
      " 6   Desc. Prod.           371 non-null    object \n",
      " 7   Min (HL)              220 non-null    float64\n",
      " 8   Obj (HL)              220 non-null    float64\n",
      " 9   Max (HL)              220 non-null    float64\n",
      " 10  Fator HL              349 non-null    float64\n",
      " 11  Min (cx)              349 non-null    float64\n",
      " 12  Obj (cx)              349 non-null    float64\n",
      " 13  Max (cx)              349 non-null    float64\n",
      " 14  MIN (ESTOUE IDEAL)    350 non-null    float64\n",
      " 15  MAX (GESTOR)          350 non-null    float64\n",
      " 16  PALETIZAÇÃO           371 non-null    float64\n",
      " 17  Estoque HL            349 non-null    float64\n",
      " 18  PEDIDO                350 non-null    float64\n",
      " 19  ESTOQUE               371 non-null    float64\n",
      " 20  ESTOQUE \n",
      "PALETE       371 non-null    float64\n",
      " 21  TRANSITO              371 non-null    float64\n",
      " 22  2024-06-14 00:00:00   371 non-null    float64\n",
      " 23  2024-06-15 00:00:00   371 non-null    float64\n",
      " 24  2024-06-16 00:00:00   371 non-null    float64\n",
      " 25  2024-06-17 00:00:00   371 non-null    float64\n",
      " 26  LINEAR DE VENDA       371 non-null    float64\n",
      " 27  EST + MARC - 3*LIN    371 non-null    float64\n",
      " 28  Diff                  368 non-null    float64\n",
      " 29  SUGERIDO              371 non-null    float64\n",
      " 30  MÍNIMO                371 non-null    float64\n",
      " 31  SUGERIDO.1            371 non-null    float64\n",
      " 32  MÁXIMO\n",
      "PEDIDO         371 non-null    float64\n",
      " 33  MÍNIMO\n",
      "PEDIDO         371 non-null    float64\n",
      " 34  FÁBRICA               182 non-null    object \n",
      " 35  MALHA                 182 non-null    float64\n",
      " 36  PEDIDO.1              40 non-null     float64\n",
      " 37  PALETES               371 non-null    float64\n",
      " 38  COMPLEMENTO           371 non-null    float64\n",
      " 39  COTA                  191 non-null    object \n",
      " 40  STATUS BI             193 non-null    object \n",
      " 41  ESTOQUE.1             165 non-null    float64\n",
      " 42  $$$$$                 351 non-null    float64\n",
      " 43  ESTOQUE REAL          371 non-null    float64\n",
      " 44  ESTOQUE MÍNIMO        351 non-null    float64\n",
      " 45  ESTOQUE MÁXIMO        351 non-null    float64\n",
      " 46  PERCENTUAL OVER/DOWN  279 non-null    float64\n",
      " 47  OVER/DOWN             351 non-null    float64\n",
      " 48  ESTOQUE SEM\n",
      "TRANSITO  371 non-null    float64\n",
      " 49  IMPACTO               279 non-null    float64\n",
      " 50  Trava                 371 non-null    float64\n",
      " 51  Indip                 160 non-null    float64\n",
      " 52  Prod_resume           239 non-null    object \n",
      " 53  FEFO/ESTOQUE          232 non-null    object \n",
      " 54  FEFO/PICKING          232 non-null    object \n",
      "dtypes: float64(43), object(12)\n",
      "memory usage: 160.0+ KB\n"
     ]
    }
   ],
   "source": [
    "df1.info()"
   ]
  },
  {
   "cell_type": "code",
   "execution_count": 15,
   "metadata": {},
   "outputs": [
    {
     "data": {
      "text/plain": [
       "0      2024-09-07 00:00:00\n",
       "1                        -\n",
       "2                        -\n",
       "3      2024-11-30 00:00:00\n",
       "4                        -\n",
       "              ...         \n",
       "367                    NaN\n",
       "368                    NaN\n",
       "369                    NaN\n",
       "370                    NaN\n",
       "371                    NaN\n",
       "Name: FEFO/ESTOQUE, Length: 372, dtype: object"
      ]
     },
     "execution_count": 15,
     "metadata": {},
     "output_type": "execute_result"
    }
   ],
   "source": [
    "df1['FEFO/ESTOQUE']"
   ]
  },
  {
   "cell_type": "code",
   "execution_count": 16,
   "metadata": {},
   "outputs": [],
   "source": [
    "from datetime import datetime"
   ]
  },
  {
   "cell_type": "code",
   "execution_count": 20,
   "metadata": {},
   "outputs": [
    {
     "data": {
      "text/plain": [
       "'07/09/2024'"
      ]
     },
     "execution_count": 20,
     "metadata": {},
     "output_type": "execute_result"
    }
   ],
   "source": [
    "df1['FEFO/ESTOQUE'][0].strftime('%d/%m/%Y')"
   ]
  },
  {
   "cell_type": "code",
   "execution_count": 30,
   "metadata": {},
   "outputs": [],
   "source": [
    "df1['FEFO/ESTOQUE'] = pd.to_datetime(df1['FEFO/ESTOQUE'], errors='coerce')\n",
    "\n",
    "df1['FEFO/ESTOQUE'] = df1['FEFO/ESTOQUE'].apply(lambda x: x.strftime('%d/%m/%Y') if pd.notnull(x) else '-')"
   ]
  },
  {
   "cell_type": "code",
   "execution_count": 32,
   "metadata": {},
   "outputs": [
    {
     "data": {
      "text/plain": [
       "0      07/09/2024\n",
       "1               -\n",
       "2               -\n",
       "3      30/11/2024\n",
       "4               -\n",
       "          ...    \n",
       "367             -\n",
       "368             -\n",
       "369             -\n",
       "370             -\n",
       "371             -\n",
       "Name: FEFO/ESTOQUE, Length: 372, dtype: object"
      ]
     },
     "execution_count": 32,
     "metadata": {},
     "output_type": "execute_result"
    }
   ],
   "source": [
    "df1['FEFO/ESTOQUE'][df1['FEFO/ESTOQUE'].notnull()]"
   ]
  },
  {
   "cell_type": "code",
   "execution_count": 34,
   "metadata": {},
   "outputs": [
    {
     "data": {
      "text/plain": [
       "array(['002 - Nab', '001 - CERVEJA', '003 - MKTP',\n",
       "       '004 - BEBIDAS QUENTES', '002 - NAB', nan], dtype=object)"
      ]
     },
     "execution_count": 34,
     "metadata": {},
     "output_type": "execute_result"
    }
   ],
   "source": [
    "df1['Categorização'].unique()"
   ]
  }
 ],
 "metadata": {
  "kernelspec": {
   "display_name": "venv",
   "language": "python",
   "name": "python3"
  },
  "language_info": {
   "codemirror_mode": {
    "name": "ipython",
    "version": 3
   },
   "file_extension": ".py",
   "mimetype": "text/x-python",
   "name": "python",
   "nbconvert_exporter": "python",
   "pygments_lexer": "ipython3",
   "version": "3.9.0"
  }
 },
 "nbformat": 4,
 "nbformat_minor": 2
}
